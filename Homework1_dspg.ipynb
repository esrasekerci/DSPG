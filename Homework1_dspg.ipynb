{
 "cells": [
  {
   "cell_type": "markdown",
   "metadata": {
    "id": "NKXfnEDjkNEX"
   },
   "source": [
    "## **Question_1**"
   ]
  },
  {
   "cell_type": "markdown",
   "metadata": {
    "id": "QvmzB0Q8kaRx"
   },
   "source": [
    "Write a code that modifies the given matrix M (with 3 rows and 4 columns), by swapping the (whole) columns 0 and 1.\n",
    "\n",
    "M = [[11, 12, 13, 14], [21, 22, 23, 24], [31, 32, 33, 34]]\n",
    "\n",
    "The matrix M above should become the matrix below;\n",
    "\n",
    "M = [[12, 11, 13, 14], [22, 21, 23, 24], [32, 31, 33, 34]]"
   ]
  },
  {
   "cell_type": "code",
   "execution_count": 44,
   "metadata": {},
   "outputs": [
    {
     "name": "stdout",
     "output_type": "stream",
     "text": [
      "[[12, 11, 13, 14], [22, 21, 23, 24], [32, 31, 33, 34]]\n"
     ]
    }
   ],
   "source": [
    "M = [[11, 12, 13, 14], [21, 22, 23, 24], [31, 32, 33, 34]]\n",
    "\n",
    "for i in range(len(M)):\n",
    "    M[i][0], M[i][1] = M[i][1], M[i][0]\n",
    "\n",
    "print(M)"
   ]
  },
  {
   "cell_type": "markdown",
   "metadata": {
    "id": "qmEZpVU6kdBS"
   },
   "source": [
    "## **Question_2**"
   ]
  },
  {
   "cell_type": "markdown",
   "metadata": {
    "id": "Q5icKm9fkXyh"
   },
   "source": [
    "Find the maximal element of the matrix M and print the row number and column number of the maximal element as a tuple.\n",
    "\n",
    "M = [[0, 3, 2, 4], [2, 7, 5, 9], [6, 1, 2, 3]]\n",
    "\n",
    "The output of the code should be row number and column number of the maximal element as a tuple.\n",
    "(1,3)"
   ]
  },
  {
   "cell_type": "code",
   "execution_count": 45,
   "metadata": {
    "scrolled": true
   },
   "outputs": [
    {
     "name": "stdout",
     "output_type": "stream",
     "text": [
      "(1, 3)\n"
     ]
    }
   ],
   "source": [
    "M = [[0, 3, 2, 4], [2, 7, 5, 9], [6, 1, 2, 3]]\n",
    "\n",
    "maximum= 0\n",
    "\n",
    "for i in range(len(M)):\n",
    "    for j in range(len(M[i])):\n",
    "        if M[i][j] > maximum :\n",
    "            maximum = M[i][j]\n",
    "            row_column = (i,j)\n",
    "            \n",
    "print(row_column)"
   ]
  },
  {
   "cell_type": "markdown",
   "metadata": {
    "id": "_900CukDkUnG"
   },
   "source": [
    "## **Question_3**"
   ]
  },
  {
   "cell_type": "markdown",
   "metadata": {
    "id": "43D7Vqj1k5FU"
   },
   "source": [
    "Given two lists of numbers, count how many unique numbers occur in both of them.\n",
    "\n",
    "For example, on input\n",
    "\n",
    "list_1 = [5, 3, 3, 10, 40]\n",
    "\n",
    "list_2 = [40, 3, 40, 1, 2]\n",
    "\n",
    "output must be\n",
    "\n",
    "6"
   ]
  },
  {
   "cell_type": "code",
   "execution_count": 46,
   "metadata": {},
   "outputs": [
    {
     "data": {
      "text/plain": [
       "6"
      ]
     },
     "execution_count": 46,
     "metadata": {},
     "output_type": "execute_result"
    }
   ],
   "source": [
    "list_1 = [5, 3, 3, 10, 40]\n",
    "list_2 = [40, 3, 40, 1, 2]\n",
    "\n",
    "len(list(set(list_1 + list_2)))"
   ]
  },
  {
   "cell_type": "markdown",
   "metadata": {
    "id": "n95IilrhlRXk"
   },
   "source": [
    "## **Question_4**"
   ]
  },
  {
   "cell_type": "markdown",
   "metadata": {
    "id": "aAIsrJ-DlbeL"
   },
   "source": [
    "We have a dictionary containing the math grades and the student number of 5 students. Calculate the mean of the grades and then prints out the name of the students who are above and below that average(and if any print that are equals to the mean as well):\n",
    "\n",
    "For example if the grades are\n",
    "\n",
    "- Jane: 30\n",
    "\n",
    "- Pat: 40\n",
    "\n",
    "- Denis: 50\n",
    "\n",
    "- Max: 60\n",
    "\n",
    "- Lara: 70\n",
    "\n",
    "Then the mean is 50\n",
    "\n",
    "your program should print:\n",
    "\n",
    "*\"Grade(s) of Jane and Pat are below the average\"*\n",
    "\n",
    "*\"Grade(s) of Denis is equal to the mean\"*\n",
    "\n",
    "*\"Grade(s) of Max and Lara are above the average\"*"
   ]
  },
  {
   "cell_type": "code",
   "execution_count": 80,
   "metadata": {
    "id": "TknZZpe2m42w"
   },
   "outputs": [
    {
     "name": "stdout",
     "output_type": "stream",
     "text": [
      "Grade(s) of  Denis and Max and Lara  is/are below the average.\n",
      "Grade(s) of  no one  is/are equal the average.\n",
      "Grade(s) of  Jane and Pat  is/are above the average. \n"
     ]
    }
   ],
   "source": [
    "# Solve this question using dictionary below\n",
    "students = {\"Jane\":{\"grade\":90,\"student_number\":4012}, \n",
    "          \"Pat\":{\"grade\":81,\"student_number\":4052},\n",
    "          \"Denis\":{\"grade\":70,\"student_number\":4089},\n",
    "          \"Max\":{\"grade\":72,\"student_number\":4322},\n",
    "          \"Lara\":{\"grade\":74,\"student_number\":4042}}\n",
    "\n",
    "gradeList = []\n",
    "for e in students:\n",
    "    gradeList.append(students[e][\"grade\"])\n",
    "\n",
    "average = sum(gradeList) / len(gradeList)\n",
    "\n",
    "below = []\n",
    "equal = []\n",
    "above = []\n",
    "\n",
    "for e in students :\n",
    "    if students[e][\"grade\"] < average :\n",
    "        below.append(e)\n",
    "        \n",
    "    elif students[e][\"grade\"] == average :\n",
    "        equal.append(e)\n",
    "        \n",
    "    else :\n",
    "        above.append(e)\n",
    "\n",
    "print(\"Grade(s) of \", \" and \" .join(below) if below else 'no one', \" is/are below the average.\")\n",
    "print(\"Grade(s) of \", \" and \" .join(equal) if equal else 'no one', \" is/are equal the average.\")\n",
    "print(\"Grade(s) of \", \" and \" .join(above) if above else 'no one', \" is/are above the average. \")\n"
   ]
  },
  {
   "cell_type": "markdown",
   "metadata": {
    "id": "GRVlS2BjmfAY"
   },
   "source": [
    "## **Question_5**"
   ]
  },
  {
   "cell_type": "markdown",
   "metadata": {
    "id": "hYUbia7pmmot"
   },
   "source": [
    "A theatre sells batches of 1 to 4 tickets per sale (if available). Initially there are 200 tickets. Write a Python program that repeatedly tells the user how many tickets are left, asks for how many tickets the user wants to buy, indicates minimum and maximum numbers to buy, and reads the user's input. This continues until all tickets have been sold. At the end, the program prints how many sales transactions have been performed. For example, we might have the following interaction:\n",
    "\n",
    "\n",
    "200 tickets remaining\n",
    "\n",
    "How many do you want to buy?\n",
    "\n",
    "Minimum 1, maximum 4\n",
    "\n",
    "3\n",
    "\n",
    "197 tickets remaining\n",
    "\n",
    "How many do you want to buy?\n",
    "\n",
    "Minimum 1, maximum 4\n",
    "\n",
    "4\n",
    "\n",
    "(...)\n",
    "\n",
    "2 tickets remaining\n",
    "\n",
    "How many do you want to buy?\n",
    "\n",
    "Minimum 1, maximum 2\n",
    "\n",
    "2\n",
    "\n",
    "86 sales transactions\n",
    "\n",
    "\n",
    "(You may assume that the user enters the data correctly, i.e., all values are integers between the current minimum and maximum numbers they may buy.)"
   ]
  },
  {
   "cell_type": "code",
   "execution_count": 88,
   "metadata": {},
   "outputs": [
    {
     "name": "stdout",
     "output_type": "stream",
     "text": [
      "How many tickets do you want to buy? (min 1 max 4) : 4\n",
      " 16 remaining!\n",
      "How many tickets do you want to buy? (min 1 max 4) : 3\n",
      " 13 remaining!\n",
      "How many tickets do you want to buy? (min 1 max 4) : 4\n",
      " 9 remaining!\n",
      "How many tickets do you want to buy? (min 1 max 4) : 2\n",
      " 7 remaining!\n",
      "How many tickets do you want to buy? (min 1 max 4) : 4\n",
      " 3 remaining!\n",
      "How many tickets do you want to buy? (min 1 max 4) : 4\n",
      "You can only buy the last remaining 3 tickets!\n",
      "How many tickets do you want to buy? (min 1 max 4) : 3\n",
      " 0 remaining!\n",
      "All tickets have been sold!\n",
      "6  sales transactions\n"
     ]
    }
   ],
   "source": [
    "tickets = 20\n",
    "transactions = 0\n",
    "\n",
    "while tickets > 0:\n",
    "    \n",
    "    buying_ticket = int(input(\"How many tickets do you want to buy? (min 1 max 4) : \"))\n",
    "    \n",
    "    if buying_ticket <= 0 or buying_ticket > 4:\n",
    "        continue\n",
    "    else:\n",
    "        \n",
    "        if buying_ticket > tickets :\n",
    "            print(f\"You can only buy the last remaining {tickets} tickets!\")\n",
    "            continue\n",
    "        else:\n",
    "            tickets -= buying_ticket\n",
    "            print(f\" {tickets} remaining!\")\n",
    "            transactions += 1\n",
    "    \n",
    "    if tickets == 0:\n",
    "        print(\"All tickets have been sold!\")\n",
    "\n",
    "print(transactions, \" sales transactions\")"
   ]
  }
 ],
 "metadata": {
  "colab": {
   "name": "Copy of 2. Hafta-Ödev.ipynb",
   "provenance": []
  },
  "kernelspec": {
   "display_name": "Python 3",
   "language": "python",
   "name": "python3"
  },
  "language_info": {
   "codemirror_mode": {
    "name": "ipython",
    "version": 3
   },
   "file_extension": ".py",
   "mimetype": "text/x-python",
   "name": "python",
   "nbconvert_exporter": "python",
   "pygments_lexer": "ipython3",
   "version": "3.8.3"
  }
 },
 "nbformat": 4,
 "nbformat_minor": 1
}
