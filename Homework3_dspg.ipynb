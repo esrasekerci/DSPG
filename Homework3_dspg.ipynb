{
 "cells": [
  {
   "cell_type": "markdown",
   "metadata": {},
   "source": [
    "'''\n",
    "Böyle listenin içinde liste olan bir yapınız var. Counter adında bir fonksiyon yazmanizi istiyorum. Arguman olarak boyle bir listeyle cagirdigimizda bize hangi elemandan kac tane vari gösteren bir dictionary dondursun. \n",
    "    + (ve listenin elemani liste olmayan durumu da yapsaniz guzel olur.)\n",
    "'''"
   ]
  },
  {
   "cell_type": "code",
   "execution_count": 18,
   "metadata": {},
   "outputs": [],
   "source": [
    "my_list = [[\"a\", \"b\"], [\"a\", \"c\", \"d\"], [\"a\"], \"d\", \"a\", [\"b\", \"d\"]]"
   ]
  },
  {
   "cell_type": "code",
   "execution_count": 19,
   "metadata": {},
   "outputs": [
    {
     "name": "stdout",
     "output_type": "stream",
     "text": [
      "{'a': 4, 'b': 2, 'c': 1, 'd': 3}\n"
     ]
    }
   ],
   "source": [
    "cdict = {}\n",
    "def Counter(clist):\n",
    "    flatten_clist = [e for k in clist for e in k]\n",
    "    for e in flatten_clist:\n",
    "        if e not in cdict:\n",
    "            cdict[e] = 1\n",
    "        else:\n",
    "            cdict[e] += 1\n",
    "    return cdict \n",
    "\n",
    "print(Counter(my_list))\n"
   ]
  }
 ],
 "metadata": {
  "kernelspec": {
   "display_name": "Python 3",
   "language": "python",
   "name": "python3"
  },
  "language_info": {
   "codemirror_mode": {
    "name": "ipython",
    "version": 3
   },
   "file_extension": ".py",
   "mimetype": "text/x-python",
   "name": "python",
   "nbconvert_exporter": "python",
   "pygments_lexer": "ipython3",
   "version": "3.8.3"
  }
 },
 "nbformat": 4,
 "nbformat_minor": 4
}
